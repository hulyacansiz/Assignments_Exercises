{
  "nbformat": 4,
  "nbformat_minor": 0,
  "metadata": {
    "kernelspec": {
      "display_name": "Python 3",
      "language": "python",
      "name": "python3"
    },
    "language_info": {
      "codemirror_mode": {
        "name": "ipython",
        "version": 3
      },
      "file_extension": ".py",
      "mimetype": "text/x-python",
      "name": "python",
      "nbconvert_exporter": "python",
      "pygments_lexer": "ipython3",
      "version": "3.7.6"
    },
    "colab": {
      "name": "SVM_Lab.ipynb adlı not defterinin kopyası",
      "provenance": [],
      "toc_visible": true,
      "include_colab_link": true
    }
  },
  "cells": [
    {
      "cell_type": "markdown",
      "metadata": {
        "id": "view-in-github",
        "colab_type": "text"
      },
      "source": [
        "<a href=\"https://colab.research.google.com/github/hulyacansiz/Assignments_Exercises/blob/master/SVM_Lab_ipynb\" target=\"_parent\"><img src=\"https://colab.research.google.com/assets/colab-badge.svg\" alt=\"Open In Colab\"/></a>"
      ]
    },
    {
      "cell_type": "markdown",
      "metadata": {
        "id": "D0quJ08gt2Jr"
      },
      "source": [
        "# SVM"
      ]
    },
    {
      "cell_type": "code",
      "metadata": {
        "id": "1WbEgdoIt2Jx"
      },
      "source": [
        "import numpy as np\n",
        "import pandas as pd \n",
        "import statsmodels.api as sm\n",
        "import seaborn as sns\n",
        "import matplotlib.pyplot as plt\n",
        "from sklearn.preprocessing import scale, StandardScaler\n",
        "from sklearn.model_selection import train_test_split, GridSearchCV, cross_val_score\n",
        "from sklearn.metrics import confusion_matrix, accuracy_score, mean_squared_error, r2_score, roc_auc_score, roc_curve, classification_report\n",
        "from sklearn.svm import SVC\n",
        "import warnings\n",
        "warnings.filterwarnings(\"ignore\")"
      ],
      "execution_count": null,
      "outputs": []
    },
    {
      "cell_type": "code",
      "metadata": {
        "id": "hJv3kX53t2Jy"
      },
      "source": [
        "df=pd.read_pickle(\"saved_df.pkl\")"
      ],
      "execution_count": null,
      "outputs": []
    },
    {
      "cell_type": "code",
      "metadata": {
        "colab": {
          "base_uri": "https://localhost:8080/",
          "height": 224
        },
        "id": "VIZc0dBqt2Jy",
        "outputId": "5f0dfa9e-8f26-4698-bc05-9757521909e1"
      },
      "source": [
        "df.head()"
      ],
      "execution_count": null,
      "outputs": [
        {
          "output_type": "execute_result",
          "data": {
            "text/html": [
              "<div>\n",
              "<style scoped>\n",
              "    .dataframe tbody tr th:only-of-type {\n",
              "        vertical-align: middle;\n",
              "    }\n",
              "\n",
              "    .dataframe tbody tr th {\n",
              "        vertical-align: top;\n",
              "    }\n",
              "\n",
              "    .dataframe thead th {\n",
              "        text-align: right;\n",
              "    }\n",
              "</style>\n",
              "<table border=\"1\" class=\"dataframe\">\n",
              "  <thead>\n",
              "    <tr style=\"text-align: right;\">\n",
              "      <th></th>\n",
              "      <th>Pregnancies</th>\n",
              "      <th>Glucose</th>\n",
              "      <th>BloodPressure</th>\n",
              "      <th>SkinThickness</th>\n",
              "      <th>Insulin</th>\n",
              "      <th>BMI</th>\n",
              "      <th>DiabetesPedigreeFunction</th>\n",
              "      <th>Age</th>\n",
              "      <th>Outcome</th>\n",
              "    </tr>\n",
              "  </thead>\n",
              "  <tbody>\n",
              "    <tr>\n",
              "      <th>0</th>\n",
              "      <td>6</td>\n",
              "      <td>148</td>\n",
              "      <td>72</td>\n",
              "      <td>35</td>\n",
              "      <td>0</td>\n",
              "      <td>33.6</td>\n",
              "      <td>0.627</td>\n",
              "      <td>50</td>\n",
              "      <td>1</td>\n",
              "    </tr>\n",
              "    <tr>\n",
              "      <th>1</th>\n",
              "      <td>1</td>\n",
              "      <td>85</td>\n",
              "      <td>66</td>\n",
              "      <td>29</td>\n",
              "      <td>0</td>\n",
              "      <td>26.6</td>\n",
              "      <td>0.351</td>\n",
              "      <td>31</td>\n",
              "      <td>0</td>\n",
              "    </tr>\n",
              "    <tr>\n",
              "      <th>2</th>\n",
              "      <td>8</td>\n",
              "      <td>183</td>\n",
              "      <td>64</td>\n",
              "      <td>0</td>\n",
              "      <td>0</td>\n",
              "      <td>23.3</td>\n",
              "      <td>0.672</td>\n",
              "      <td>32</td>\n",
              "      <td>1</td>\n",
              "    </tr>\n",
              "    <tr>\n",
              "      <th>3</th>\n",
              "      <td>1</td>\n",
              "      <td>89</td>\n",
              "      <td>66</td>\n",
              "      <td>23</td>\n",
              "      <td>94</td>\n",
              "      <td>28.1</td>\n",
              "      <td>0.167</td>\n",
              "      <td>21</td>\n",
              "      <td>0</td>\n",
              "    </tr>\n",
              "    <tr>\n",
              "      <th>4</th>\n",
              "      <td>0</td>\n",
              "      <td>137</td>\n",
              "      <td>40</td>\n",
              "      <td>35</td>\n",
              "      <td>168</td>\n",
              "      <td>43.1</td>\n",
              "      <td>2.288</td>\n",
              "      <td>33</td>\n",
              "      <td>1</td>\n",
              "    </tr>\n",
              "  </tbody>\n",
              "</table>\n",
              "</div>"
            ],
            "text/plain": [
              "   Pregnancies  Glucose  BloodPressure  ...  DiabetesPedigreeFunction  Age  Outcome\n",
              "0            6      148             72  ...                     0.627   50        1\n",
              "1            1       85             66  ...                     0.351   31        0\n",
              "2            8      183             64  ...                     0.672   32        1\n",
              "3            1       89             66  ...                     0.167   21        0\n",
              "4            0      137             40  ...                     2.288   33        1\n",
              "\n",
              "[5 rows x 9 columns]"
            ]
          },
          "metadata": {
            "tags": []
          },
          "execution_count": 16
        }
      ]
    },
    {
      "cell_type": "code",
      "metadata": {
        "id": "-s5JHkH9t2Jz"
      },
      "source": [
        "df.shape"
      ],
      "execution_count": null,
      "outputs": []
    },
    {
      "cell_type": "code",
      "metadata": {
        "colab": {
          "base_uri": "https://localhost:8080/",
          "height": 348
        },
        "id": "OjSRRT5b7JI4",
        "outputId": "922c7d5f-0431-433d-83ac-1dd94625f6ff"
      },
      "source": [
        "df.corr()"
      ],
      "execution_count": null,
      "outputs": [
        {
          "output_type": "execute_result",
          "data": {
            "text/html": [
              "<div>\n",
              "<style scoped>\n",
              "    .dataframe tbody tr th:only-of-type {\n",
              "        vertical-align: middle;\n",
              "    }\n",
              "\n",
              "    .dataframe tbody tr th {\n",
              "        vertical-align: top;\n",
              "    }\n",
              "\n",
              "    .dataframe thead th {\n",
              "        text-align: right;\n",
              "    }\n",
              "</style>\n",
              "<table border=\"1\" class=\"dataframe\">\n",
              "  <thead>\n",
              "    <tr style=\"text-align: right;\">\n",
              "      <th></th>\n",
              "      <th>Pregnancies</th>\n",
              "      <th>Glucose</th>\n",
              "      <th>BloodPressure</th>\n",
              "      <th>SkinThickness</th>\n",
              "      <th>Insulin</th>\n",
              "      <th>BMI</th>\n",
              "      <th>DiabetesPedigreeFunction</th>\n",
              "      <th>Age</th>\n",
              "      <th>Outcome</th>\n",
              "    </tr>\n",
              "  </thead>\n",
              "  <tbody>\n",
              "    <tr>\n",
              "      <th>Pregnancies</th>\n",
              "      <td>1.000000</td>\n",
              "      <td>0.128576</td>\n",
              "      <td>0.197441</td>\n",
              "      <td>-0.102231</td>\n",
              "      <td>-0.074675</td>\n",
              "      <td>-0.006435</td>\n",
              "      <td>-0.023073</td>\n",
              "      <td>0.561993</td>\n",
              "      <td>0.213164</td>\n",
              "    </tr>\n",
              "    <tr>\n",
              "      <th>Glucose</th>\n",
              "      <td>0.128576</td>\n",
              "      <td>1.000000</td>\n",
              "      <td>0.212010</td>\n",
              "      <td>0.055936</td>\n",
              "      <td>0.346205</td>\n",
              "      <td>0.231385</td>\n",
              "      <td>0.133567</td>\n",
              "      <td>0.255720</td>\n",
              "      <td>0.489618</td>\n",
              "    </tr>\n",
              "    <tr>\n",
              "      <th>BloodPressure</th>\n",
              "      <td>0.197441</td>\n",
              "      <td>0.212010</td>\n",
              "      <td>1.000000</td>\n",
              "      <td>0.030161</td>\n",
              "      <td>-0.049453</td>\n",
              "      <td>0.316929</td>\n",
              "      <td>-0.007358</td>\n",
              "      <td>0.326163</td>\n",
              "      <td>0.165914</td>\n",
              "    </tr>\n",
              "    <tr>\n",
              "      <th>SkinThickness</th>\n",
              "      <td>-0.102231</td>\n",
              "      <td>0.055936</td>\n",
              "      <td>0.030161</td>\n",
              "      <td>1.000000</td>\n",
              "      <td>0.435693</td>\n",
              "      <td>0.410868</td>\n",
              "      <td>0.177301</td>\n",
              "      <td>-0.150868</td>\n",
              "      <td>0.086409</td>\n",
              "    </tr>\n",
              "    <tr>\n",
              "      <th>Insulin</th>\n",
              "      <td>-0.074675</td>\n",
              "      <td>0.346205</td>\n",
              "      <td>-0.049453</td>\n",
              "      <td>0.435693</td>\n",
              "      <td>1.000000</td>\n",
              "      <td>0.197213</td>\n",
              "      <td>0.181174</td>\n",
              "      <td>-0.044994</td>\n",
              "      <td>0.151624</td>\n",
              "    </tr>\n",
              "    <tr>\n",
              "      <th>BMI</th>\n",
              "      <td>-0.006435</td>\n",
              "      <td>0.231385</td>\n",
              "      <td>0.316929</td>\n",
              "      <td>0.410868</td>\n",
              "      <td>0.197213</td>\n",
              "      <td>1.000000</td>\n",
              "      <td>0.157796</td>\n",
              "      <td>0.017854</td>\n",
              "      <td>0.294773</td>\n",
              "    </tr>\n",
              "    <tr>\n",
              "      <th>DiabetesPedigreeFunction</th>\n",
              "      <td>-0.023073</td>\n",
              "      <td>0.133567</td>\n",
              "      <td>-0.007358</td>\n",
              "      <td>0.177301</td>\n",
              "      <td>0.181174</td>\n",
              "      <td>0.157796</td>\n",
              "      <td>1.000000</td>\n",
              "      <td>0.026941</td>\n",
              "      <td>0.188072</td>\n",
              "    </tr>\n",
              "    <tr>\n",
              "      <th>Age</th>\n",
              "      <td>0.561993</td>\n",
              "      <td>0.255720</td>\n",
              "      <td>0.326163</td>\n",
              "      <td>-0.150868</td>\n",
              "      <td>-0.044994</td>\n",
              "      <td>0.017854</td>\n",
              "      <td>0.026941</td>\n",
              "      <td>1.000000</td>\n",
              "      <td>0.242064</td>\n",
              "    </tr>\n",
              "    <tr>\n",
              "      <th>Outcome</th>\n",
              "      <td>0.213164</td>\n",
              "      <td>0.489618</td>\n",
              "      <td>0.165914</td>\n",
              "      <td>0.086409</td>\n",
              "      <td>0.151624</td>\n",
              "      <td>0.294773</td>\n",
              "      <td>0.188072</td>\n",
              "      <td>0.242064</td>\n",
              "      <td>1.000000</td>\n",
              "    </tr>\n",
              "  </tbody>\n",
              "</table>\n",
              "</div>"
            ],
            "text/plain": [
              "                          Pregnancies   Glucose  ...       Age   Outcome\n",
              "Pregnancies                  1.000000  0.128576  ...  0.561993  0.213164\n",
              "Glucose                      0.128576  1.000000  ...  0.255720  0.489618\n",
              "BloodPressure                0.197441  0.212010  ...  0.326163  0.165914\n",
              "SkinThickness               -0.102231  0.055936  ... -0.150868  0.086409\n",
              "Insulin                     -0.074675  0.346205  ... -0.044994  0.151624\n",
              "BMI                         -0.006435  0.231385  ...  0.017854  0.294773\n",
              "DiabetesPedigreeFunction    -0.023073  0.133567  ...  0.026941  0.188072\n",
              "Age                          0.561993  0.255720  ...  1.000000  0.242064\n",
              "Outcome                      0.213164  0.489618  ...  0.242064  1.000000\n",
              "\n",
              "[9 rows x 9 columns]"
            ]
          },
          "metadata": {
            "tags": []
          },
          "execution_count": 12
        }
      ]
    },
    {
      "cell_type": "code",
      "metadata": {
        "colab": {
          "base_uri": "https://localhost:8080/",
          "height": 591
        },
        "id": "t9PmJ2qm7WIZ",
        "outputId": "ccc7a6f0-96db-42fc-d90f-eeb39fdc42e3"
      },
      "source": [
        "plt.figure(figsize=(16,12))\n",
        "sns.heatmap(df.corr(), annot=True);"
      ],
      "execution_count": null,
      "outputs": [
        {
          "output_type": "display_data",
          "data": {
            "image/png": "[encoded data removed]",
            "text/plain": [
              "<Figure size 1152x864 with 2 Axes>"
            ]
          },
          "metadata": {
            "tags": [],
            "needs_background": "light"
          }
        }
      ]
    },
    {
      "cell_type": "code",
      "metadata": {
        "colab": {
          "base_uri": "https://localhost:8080/"
        },
        "id": "D0I9s_8R70zs",
        "outputId": "5e1d9071-7449-4f22-865c-7f71141b2c99"
      },
      "source": [
        "df.Outcome.value_counts()"
      ],
      "execution_count": null,
      "outputs": [
        {
          "output_type": "execute_result",
          "data": {
            "text/plain": [
              "0    468\n",
              "1    239\n",
              "Name: Outcome, dtype: int64"
            ]
          },
          "metadata": {
            "tags": []
          },
          "execution_count": 18
        }
      ]
    },
    {
      "cell_type": "code",
      "metadata": {
        "id": "d4knlBVYt2J0"
      },
      "source": [
        "X=df.drop([\"Outcome\"], axis=1)\n",
        "y=df[\"Outcome\"]\n",
        "X_train, X_test, y_train, y_test = train_test_split(X,y,test_size=0.30, stratify=y, random_state=42)"
      ],
      "execution_count": null,
      "outputs": []
    },
    {
      "cell_type": "markdown",
      "metadata": {
        "id": "PrajgO3Vt2J0"
      },
      "source": [
        "**SVM**"
      ]
    },
    {
      "cell_type": "code",
      "metadata": {
        "id": "OIg7-Bojt2J0"
      },
      "source": [
        ""
      ],
      "execution_count": null,
      "outputs": []
    },
    {
      "cell_type": "code",
      "metadata": {
        "id": "k0Nzkfxpt2J1"
      },
      "source": [
        "svm_model = SVC().fit(X_train, y_train)"
      ],
      "execution_count": null,
      "outputs": []
    },
    {
      "cell_type": "code",
      "metadata": {
        "colab": {
          "base_uri": "https://localhost:8080/"
        },
        "id": "7Xqboec9t2J1",
        "outputId": "e1272258-68d4-4fcd-f22b-c5bbcbad8234"
      },
      "source": [
        "svm_model"
      ],
      "execution_count": null,
      "outputs": [
        {
          "output_type": "execute_result",
          "data": {
            "text/plain": [
              "SVC(C=1.0, break_ties=False, cache_size=200, class_weight=None, coef0=0.0,\n",
              "    decision_function_shape='ovr', degree=3, gamma='scale', kernel='rbf',\n",
              "    max_iter=-1, probability=False, random_state=None, shrinking=True,\n",
              "    tol=0.001, verbose=False)"
            ]
          },
          "metadata": {
            "tags": []
          },
          "execution_count": 58
        }
      ]
    },
    {
      "cell_type": "code",
      "metadata": {
        "colab": {
          "base_uri": "https://localhost:8080/"
        },
        "id": "0ludSBcLt2J1",
        "outputId": "bc671f12-485e-45cc-ebce-6f927d6e9af9"
      },
      "source": [
        "y_pred = svm_model.predict(X_test)\n",
        "confusion_matrix(y_test, y_pred)"
      ],
      "execution_count": null,
      "outputs": [
        {
          "output_type": "execute_result",
          "data": {
            "text/plain": [
              "array([[132,   9],\n",
              "       [ 37,  35]])"
            ]
          },
          "metadata": {
            "tags": []
          },
          "execution_count": 59
        }
      ]
    },
    {
      "cell_type": "code",
      "metadata": {
        "colab": {
          "base_uri": "https://localhost:8080/"
        },
        "id": "JaNAWJV4t2J2",
        "outputId": "f52bdce1-e8b6-4e35-d220-ae690021b0fd"
      },
      "source": [
        "print(classification_report(y_test, y_pred))"
      ],
      "execution_count": null,
      "outputs": [
        {
          "output_type": "stream",
          "text": [
            "              precision    recall  f1-score   support\n",
            "\n",
            "           0       0.78      0.94      0.85       141\n",
            "           1       0.80      0.49      0.60        72\n",
            "\n",
            "    accuracy                           0.78       213\n",
            "   macro avg       0.79      0.71      0.73       213\n",
            "weighted avg       0.79      0.78      0.77       213\n",
            "\n"
          ],
          "name": "stdout"
        }
      ]
    },
    {
      "cell_type": "markdown",
      "metadata": {
        "id": "9CuNcYHWt2J2"
      },
      "source": [
        "**SVM (with scaled data)**"
      ]
    },
    {
      "cell_type": "code",
      "metadata": {
        "id": "ptaQbHOSt2J2"
      },
      "source": [
        "sc = StandardScaler()\n",
        "X_train = sc.fit_transform(X_train)\n",
        "X_test = sc.transform(X_test)"
      ],
      "execution_count": null,
      "outputs": []
    },
    {
      "cell_type": "code",
      "metadata": {
        "id": "vuXeNLlIt2J3"
      },
      "source": [
        "svm_model = SVC().fit(X_train, y_train)"
      ],
      "execution_count": null,
      "outputs": []
    },
    {
      "cell_type": "code",
      "metadata": {
        "colab": {
          "base_uri": "https://localhost:8080/"
        },
        "id": "v710vLuXt2J3",
        "outputId": "3c6c2bee-6bac-4a36-bf84-1873f20b9616"
      },
      "source": [
        "y_pred = svm_model.predict(X_test)\n",
        "confusion_matrix(y_test, y_pred)"
      ],
      "execution_count": null,
      "outputs": [
        {
          "output_type": "execute_result",
          "data": {
            "text/plain": [
              "array([[124,  17],\n",
              "       [ 26,  46]])"
            ]
          },
          "metadata": {
            "tags": []
          },
          "execution_count": 63
        }
      ]
    },
    {
      "cell_type": "code",
      "metadata": {
        "colab": {
          "base_uri": "https://localhost:8080/"
        },
        "id": "HcshmatNt2J3",
        "outputId": "154fad16-93b0-49c2-eec8-8e432f111f6b"
      },
      "source": [
        "print(classification_report(y_test, y_pred))"
      ],
      "execution_count": null,
      "outputs": [
        {
          "output_type": "stream",
          "text": [
            "              precision    recall  f1-score   support\n",
            "\n",
            "           0       0.83      0.88      0.85       141\n",
            "           1       0.73      0.64      0.68        72\n",
            "\n",
            "    accuracy                           0.80       213\n",
            "   macro avg       0.78      0.76      0.77       213\n",
            "weighted avg       0.79      0.80      0.79       213\n",
            "\n"
          ],
          "name": "stdout"
        }
      ]
    },
    {
      "cell_type": "markdown",
      "metadata": {
        "id": "2v6pzB9yt2J4"
      },
      "source": [
        "# Model tuning"
      ]
    },
    {
      "cell_type": "code",
      "metadata": {
        "id": "tfLHTMAqt2J4"
      },
      "source": [
        "svm = SVC()"
      ],
      "execution_count": null,
      "outputs": []
    },
    {
      "cell_type": "code",
      "metadata": {
        "id": "Op6IThlYt2J5"
      },
      "source": [
        "svm_params = {\"kernel\": [\"linear\",\"rbf\"]}"
      ],
      "execution_count": null,
      "outputs": []
    },
    {
      "cell_type": "code",
      "metadata": {
        "colab": {
          "base_uri": "https://localhost:8080/"
        },
        "id": "RV6ROimYt2J5",
        "outputId": "63680bc5-43e4-4bc3-c000-5a7035f9cf83"
      },
      "source": [
        "svm_cv_model = GridSearchCV(svm, svm_params, cv = 5, n_jobs = -1, verbose = 2).fit(X_train, y_train)"
      ],
      "execution_count": null,
      "outputs": [
        {
          "output_type": "stream",
          "text": [
            "Fitting 5 folds for each of 2 candidates, totalling 10 fits\n"
          ],
          "name": "stdout"
        },
        {
          "output_type": "stream",
          "text": [
            "[Parallel(n_jobs=-1)]: Using backend LokyBackend with 2 concurrent workers.\n",
            "[Parallel(n_jobs=-1)]: Done  10 out of  10 | elapsed:    1.4s finished\n"
          ],
          "name": "stderr"
        }
      ]
    },
    {
      "cell_type": "code",
      "metadata": {
        "colab": {
          "base_uri": "https://localhost:8080/"
        },
        "id": "95aqM8Rdt2J5",
        "outputId": "9b4d34bb-ed78-4625-e594-c19afaf4c3c9"
      },
      "source": [
        "svm_cv_model.best_params_"
      ],
      "execution_count": null,
      "outputs": [
        {
          "output_type": "execute_result",
          "data": {
            "text/plain": [
              "{'kernel': 'rbf'}"
            ]
          },
          "metadata": {
            "tags": []
          },
          "execution_count": 68
        }
      ]
    },
    {
      "cell_type": "markdown",
      "metadata": {
        "id": "b1yI3vGl2q8W"
      },
      "source": [
        "# Try an other gridsearch"
      ]
    },
    {
      "cell_type": "code",
      "metadata": {
        "id": "nQTWc8Jgt2J6"
      },
      "source": [
        "svm = SVC()"
      ],
      "execution_count": null,
      "outputs": []
    },
    {
      "cell_type": "code",
      "metadata": {
        "id": "PoTATookt2J6"
      },
      "source": [
        "svm_params = {\"C\": [0.1,0.5,1,10,20,50], \"gamma\":[1,0.1,0.01,0.001,0.0001]}"
      ],
      "execution_count": null,
      "outputs": []
    },
    {
      "cell_type": "code",
      "metadata": {
        "colab": {
          "base_uri": "https://localhost:8080/"
        },
        "id": "Sv78Vlnkt2J6",
        "outputId": "d5cbfe25-6b88-4068-82ff-573761c2ae50"
      },
      "source": [
        "svm_cv_model = GridSearchCV(svm, svm_params, cv = 5, n_jobs = -1, verbose = 2).fit(X_train, y_train)"
      ],
      "execution_count": null,
      "outputs": [
        {
          "output_type": "stream",
          "text": [
            "Fitting 5 folds for each of 30 candidates, totalling 150 fits\n"
          ],
          "name": "stdout"
        },
        {
          "output_type": "stream",
          "text": [
            "[Parallel(n_jobs=-1)]: Using backend LokyBackend with 2 concurrent workers.\n",
            "[Parallel(n_jobs=-1)]: Done 141 tasks      | elapsed:    1.1s\n",
            "[Parallel(n_jobs=-1)]: Done 150 out of 150 | elapsed:    1.2s finished\n"
          ],
          "name": "stderr"
        }
      ]
    },
    {
      "cell_type": "code",
      "metadata": {
        "colab": {
          "base_uri": "https://localhost:8080/"
        },
        "id": "pceFjvBFt2J7",
        "outputId": "208e3484-9658-4358-c395-3beeb8dddfde"
      },
      "source": [
        "svm_cv_model.best_params_"
      ],
      "execution_count": null,
      "outputs": [
        {
          "output_type": "execute_result",
          "data": {
            "text/plain": [
              "{'C': 1, 'gamma': 0.01}"
            ]
          },
          "metadata": {
            "tags": []
          },
          "execution_count": 72
        }
      ]
    },
    {
      "cell_type": "code",
      "metadata": {
        "id": "DA84qNy_t2J7"
      },
      "source": [
        "svm_tuned_2 = SVC(C = 1, gamma=0.01,kernel = 'linear').fit(X_train, y_train)"
      ],
      "execution_count": null,
      "outputs": []
    },
    {
      "cell_type": "code",
      "metadata": {
        "colab": {
          "base_uri": "https://localhost:8080/"
        },
        "id": "YfbT3V71t2J7",
        "outputId": "35fdbd8d-f924-493a-c23f-3c489ef9ddde"
      },
      "source": [
        "y_pred = svm_tuned_2.predict(X_test)\n",
        "confusion_matrix(y_test, y_pred)"
      ],
      "execution_count": null,
      "outputs": [
        {
          "output_type": "execute_result",
          "data": {
            "text/plain": [
              "array([[127,  14],\n",
              "       [ 29,  43]])"
            ]
          },
          "metadata": {
            "tags": []
          },
          "execution_count": 74
        }
      ]
    },
    {
      "cell_type": "code",
      "metadata": {
        "colab": {
          "base_uri": "https://localhost:8080/"
        },
        "id": "1HTAxoK9t2J7",
        "outputId": "eb8c56fd-1b92-4da1-c20b-472c5e5397fb"
      },
      "source": [
        "print(classification_report(y_test, y_pred))"
      ],
      "execution_count": null,
      "outputs": [
        {
          "output_type": "stream",
          "text": [
            "              precision    recall  f1-score   support\n",
            "\n",
            "           0       0.81      0.90      0.86       141\n",
            "           1       0.75      0.60      0.67        72\n",
            "\n",
            "    accuracy                           0.80       213\n",
            "   macro avg       0.78      0.75      0.76       213\n",
            "weighted avg       0.79      0.80      0.79       213\n",
            "\n"
          ],
          "name": "stdout"
        }
      ]
    },
    {
      "cell_type": "markdown",
      "metadata": {
        "id": "gdvKZ_Qv2mm8"
      },
      "source": [
        "# Third gridsearch"
      ]
    },
    {
      "cell_type": "code",
      "metadata": {
        "id": "aO9XoM9Ot2J8"
      },
      "source": [
        "svm = SVC(gamma=\"auto\")"
      ],
      "execution_count": null,
      "outputs": []
    },
    {
      "cell_type": "code",
      "metadata": {
        "id": "HodZyedIt2J8"
      },
      "source": [
        "svm_model = SVC().fit(X_train, y_train)"
      ],
      "execution_count": null,
      "outputs": []
    },
    {
      "cell_type": "code",
      "metadata": {
        "colab": {
          "base_uri": "https://localhost:8080/"
        },
        "id": "J29X-BU5t2J8",
        "outputId": "657da1ba-aa9b-41a9-f976-e5077ec846e7"
      },
      "source": [
        "y_pred = svm_model.predict(X_test)\n",
        "confusion_matrix(y_test, y_pred)"
      ],
      "execution_count": null,
      "outputs": [
        {
          "output_type": "execute_result",
          "data": {
            "text/plain": [
              "array([[124,  17],\n",
              "       [ 26,  46]])"
            ]
          },
          "metadata": {
            "tags": []
          },
          "execution_count": 78
        }
      ]
    },
    {
      "cell_type": "code",
      "metadata": {
        "colab": {
          "base_uri": "https://localhost:8080/"
        },
        "id": "PvEXMoFJt2J9",
        "outputId": "b310b903-2fd3-46e1-f138-9cd4eab6e803"
      },
      "source": [
        "print(classification_report(y_test, y_pred))"
      ],
      "execution_count": null,
      "outputs": [
        {
          "output_type": "stream",
          "text": [
            "              precision    recall  f1-score   support\n",
            "\n",
            "           0       0.83      0.88      0.85       141\n",
            "           1       0.73      0.64      0.68        72\n",
            "\n",
            "    accuracy                           0.80       213\n",
            "   macro avg       0.78      0.76      0.77       213\n",
            "weighted avg       0.79      0.80      0.79       213\n",
            "\n"
          ],
          "name": "stdout"
        }
      ]
    },
    {
      "cell_type": "code",
      "metadata": {
        "id": "6GBxwDFgt2J-"
      },
      "source": [
        ""
      ],
      "execution_count": null,
      "outputs": []
    }
  ]
}